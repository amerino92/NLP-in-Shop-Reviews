{
 "cells": [
  {
   "cell_type": "markdown",
   "metadata": {},
   "source": [
    "##Introduction"
   ]
  },
  {
   "cell_type": "markdown",
   "metadata": {},
   "source": [
    "We will work on a dataset which consists of Women’s fashion online shop reviews. This dataset contains a title, a review text, and whether the review author would recommend the product. We are trying to determine whether a reviewer will recommend a product or not based on review title and review."
   ]
  },
  {
   "cell_type": "markdown",
   "metadata": {},
   "source": [
    "First, we will take a look of the train dataset. We will use this set to fit our models."
   ]
  },
  {
   "cell_type": "code",
   "execution_count": 1,
   "metadata": {},
   "outputs": [
    {
     "data": {
      "text/html": [
       "<div>\n",
       "<style scoped>\n",
       "    .dataframe tbody tr th:only-of-type {\n",
       "        vertical-align: middle;\n",
       "    }\n",
       "\n",
       "    .dataframe tbody tr th {\n",
       "        vertical-align: top;\n",
       "    }\n",
       "\n",
       "    .dataframe thead th {\n",
       "        text-align: right;\n",
       "    }\n",
       "</style>\n",
       "<table border=\"1\" class=\"dataframe\">\n",
       "  <thead>\n",
       "    <tr style=\"text-align: right;\">\n",
       "      <th></th>\n",
       "      <th>Title</th>\n",
       "      <th>Review</th>\n",
       "      <th>Recommended</th>\n",
       "    </tr>\n",
       "  </thead>\n",
       "  <tbody>\n",
       "    <tr>\n",
       "      <th>0</th>\n",
       "      <td>Beautiful unique dress</td>\n",
       "      <td>Wore this to my sons wedding. found it last mi...</td>\n",
       "      <td>1</td>\n",
       "    </tr>\n",
       "    <tr>\n",
       "      <th>1</th>\n",
       "      <td>Had high hopes but...</td>\n",
       "      <td>Gals, if you absolutely must have this top wai...</td>\n",
       "      <td>0</td>\n",
       "    </tr>\n",
       "    <tr>\n",
       "      <th>2</th>\n",
       "      <td>Buttons -buttons so cute!</td>\n",
       "      <td>I hardly believe i have not reviewed htis yet....</td>\n",
       "      <td>1</td>\n",
       "    </tr>\n",
       "    <tr>\n",
       "      <th>3</th>\n",
       "      <td>Love this dress</td>\n",
       "      <td>This dress is so cute and comfortable. i'm nor...</td>\n",
       "      <td>1</td>\n",
       "    </tr>\n",
       "    <tr>\n",
       "      <th>4</th>\n",
       "      <td>Perfect summer pants!</td>\n",
       "      <td>The linen- cotton blend breathes so well for a...</td>\n",
       "      <td>1</td>\n",
       "    </tr>\n",
       "  </tbody>\n",
       "</table>\n",
       "</div>"
      ],
      "text/plain": [
       "                       Title  \\\n",
       "0     Beautiful unique dress   \n",
       "1      Had high hopes but...   \n",
       "2  Buttons -buttons so cute!   \n",
       "3            Love this dress   \n",
       "4      Perfect summer pants!   \n",
       "\n",
       "                                              Review  Recommended  \n",
       "0  Wore this to my sons wedding. found it last mi...            1  \n",
       "1  Gals, if you absolutely must have this top wai...            0  \n",
       "2  I hardly believe i have not reviewed htis yet....            1  \n",
       "3  This dress is so cute and comfortable. i'm nor...            1  \n",
       "4  The linen- cotton blend breathes so well for a...            1  "
      ]
     },
     "execution_count": 1,
     "metadata": {},
     "output_type": "execute_result"
    }
   ],
   "source": [
    "import pandas as pd\n",
    "import numpy as np\n",
    "import matplotlib.pyplot as plt\n",
    "%matplotlib inline\n",
    "import warnings\n",
    "warnings.filterwarnings('ignore')\n",
    "\n",
    "dataset = pd.read_csv('C:/Users/alex_/Desktop/college/DS630-MachineLear/hw5_data_train.csv')\n",
    "dataset.head()"
   ]
  },
  {
   "cell_type": "code",
   "execution_count": 2,
   "metadata": {},
   "outputs": [
    {
     "data": {
      "text/plain": [
       "True"
      ]
     },
     "execution_count": 2,
     "metadata": {},
     "output_type": "execute_result"
    }
   ],
   "source": [
    " dataset.isnull().values.any()\n"
   ]
  },
  {
   "cell_type": "markdown",
   "metadata": {},
   "source": [
    "It contains missing values. We will fill them out with space character to not lose the rows."
   ]
  },
  {
   "cell_type": "code",
   "execution_count": 3,
   "metadata": {},
   "outputs": [
    {
     "data": {
      "text/plain": [
       "Title          2852\n",
       "Review          629\n",
       "Recommended       0\n",
       "dtype: int64"
      ]
     },
     "execution_count": 3,
     "metadata": {},
     "output_type": "execute_result"
    }
   ],
   "source": [
    "dataset.isnull().sum()"
   ]
  },
  {
   "cell_type": "code",
   "execution_count": 4,
   "metadata": {},
   "outputs": [],
   "source": [
    "dataset=dataset.fillna(' ') #filling out missing values"
   ]
  },
  {
   "cell_type": "code",
   "execution_count": 5,
   "metadata": {},
   "outputs": [
    {
     "data": {
      "text/plain": [
       "False"
      ]
     },
     "execution_count": 5,
     "metadata": {},
     "output_type": "execute_result"
    }
   ],
   "source": [
    " dataset.isnull().values.any()"
   ]
  },
  {
   "cell_type": "markdown",
   "metadata": {},
   "source": [
    "Now, we can see how big is our dataset."
   ]
  },
  {
   "cell_type": "code",
   "execution_count": 6,
   "metadata": {},
   "outputs": [
    {
     "data": {
      "text/plain": [
       "(17614, 3)"
      ]
     },
     "execution_count": 6,
     "metadata": {},
     "output_type": "execute_result"
    }
   ],
   "source": [
    "dataset.shape"
   ]
  },
  {
   "cell_type": "code",
   "execution_count": 7,
   "metadata": {},
   "outputs": [
    {
     "data": {
      "text/plain": [
       "(14485, 3)"
      ]
     },
     "execution_count": 7,
     "metadata": {},
     "output_type": "execute_result"
    }
   ],
   "source": [
    "dataset[dataset['Recommended']==1].shape"
   ]
  },
  {
   "cell_type": "code",
   "execution_count": 8,
   "metadata": {},
   "outputs": [
    {
     "data": {
      "text/plain": [
       "(3129, 3)"
      ]
     },
     "execution_count": 8,
     "metadata": {},
     "output_type": "execute_result"
    }
   ],
   "source": [
    "dataset[dataset['Recommended']==0].shape"
   ]
  },
  {
   "cell_type": "markdown",
   "metadata": {},
   "source": [
    "There's a big difference between the recommended products and not recommended products. We can infere we are working with a imbalanced text classification problem."
   ]
  },
  {
   "cell_type": "markdown",
   "metadata": {},
   "source": [
    "Now, we are going to read our test dataset to make the predictions using the models we create using the training set."
   ]
  },
  {
   "cell_type": "code",
   "execution_count": 9,
   "metadata": {},
   "outputs": [
    {
     "data": {
      "text/html": [
       "<div>\n",
       "<style scoped>\n",
       "    .dataframe tbody tr th:only-of-type {\n",
       "        vertical-align: middle;\n",
       "    }\n",
       "\n",
       "    .dataframe tbody tr th {\n",
       "        vertical-align: top;\n",
       "    }\n",
       "\n",
       "    .dataframe thead th {\n",
       "        text-align: right;\n",
       "    }\n",
       "</style>\n",
       "<table border=\"1\" class=\"dataframe\">\n",
       "  <thead>\n",
       "    <tr style=\"text-align: right;\">\n",
       "      <th></th>\n",
       "      <th>Title</th>\n",
       "      <th>Review</th>\n",
       "      <th>Recommended</th>\n",
       "    </tr>\n",
       "  </thead>\n",
       "  <tbody>\n",
       "    <tr>\n",
       "      <th>0</th>\n",
       "      <td>NaN</td>\n",
       "      <td>NaN</td>\n",
       "      <td>0</td>\n",
       "    </tr>\n",
       "    <tr>\n",
       "      <th>1</th>\n",
       "      <td>Perfect pair!!</td>\n",
       "      <td>This pair of age stevie capris is everything t...</td>\n",
       "      <td>1</td>\n",
       "    </tr>\n",
       "    <tr>\n",
       "      <th>2</th>\n",
       "      <td>Talk about creature comforts!</td>\n",
       "      <td>This is a beautifully designed jacket that eve...</td>\n",
       "      <td>1</td>\n",
       "    </tr>\n",
       "    <tr>\n",
       "      <th>3</th>\n",
       "      <td>NaN</td>\n",
       "      <td>NaN</td>\n",
       "      <td>1</td>\n",
       "    </tr>\n",
       "    <tr>\n",
       "      <th>4</th>\n",
       "      <td>So comfotable</td>\n",
       "      <td>I ordered this dress in 0p since i am 5ft. it ...</td>\n",
       "      <td>1</td>\n",
       "    </tr>\n",
       "  </tbody>\n",
       "</table>\n",
       "</div>"
      ],
      "text/plain": [
       "                           Title  \\\n",
       "0                            NaN   \n",
       "1                 Perfect pair!!   \n",
       "2  Talk about creature comforts!   \n",
       "3                            NaN   \n",
       "4                  So comfotable   \n",
       "\n",
       "                                              Review  Recommended  \n",
       "0                                                NaN            0  \n",
       "1  This pair of age stevie capris is everything t...            1  \n",
       "2  This is a beautifully designed jacket that eve...            1  \n",
       "3                                                NaN            1  \n",
       "4  I ordered this dress in 0p since i am 5ft. it ...            1  "
      ]
     },
     "execution_count": 9,
     "metadata": {},
     "output_type": "execute_result"
    }
   ],
   "source": [
    "dataset_test = pd.read_csv('C:/Users/alex_/Desktop/college/DS630-MachineLear/hw5_data_test.csv')\n",
    "dataset_test.head()\n"
   ]
  },
  {
   "cell_type": "code",
   "execution_count": 10,
   "metadata": {},
   "outputs": [
    {
     "data": {
      "text/plain": [
       "False"
      ]
     },
     "execution_count": 10,
     "metadata": {},
     "output_type": "execute_result"
    }
   ],
   "source": [
    "dataset_test=dataset_test.fillna(' ') #filling out missing values\n",
    "dataset_test.isnull().values.any()"
   ]
  },
  {
   "cell_type": "code",
   "execution_count": 11,
   "metadata": {},
   "outputs": [
    {
     "data": {
      "text/plain": [
       "(5872, 3)"
      ]
     },
     "execution_count": 11,
     "metadata": {},
     "output_type": "execute_result"
    }
   ],
   "source": [
    "dataset_test.shape"
   ]
  },
  {
   "cell_type": "code",
   "execution_count": 12,
   "metadata": {},
   "outputs": [
    {
     "data": {
      "text/plain": [
       "(4829, 3)"
      ]
     },
     "execution_count": 12,
     "metadata": {},
     "output_type": "execute_result"
    }
   ],
   "source": [
    "dataset_test[dataset_test['Recommended']==1].shape"
   ]
  },
  {
   "cell_type": "code",
   "execution_count": 13,
   "metadata": {},
   "outputs": [
    {
     "data": {
      "text/plain": [
       "(1043, 3)"
      ]
     },
     "execution_count": 13,
     "metadata": {},
     "output_type": "execute_result"
    }
   ],
   "source": [
    "dataset_test[dataset_test['Recommended']==0].shape"
   ]
  },
  {
   "cell_type": "code",
   "execution_count": 14,
   "metadata": {},
   "outputs": [],
   "source": [
    "title_test=dataset_test.iloc[:,0].values\n",
    "recom_test=dataset_test.iloc[:,2].values\n"
   ]
  },
  {
   "cell_type": "markdown",
   "metadata": {},
   "source": [
    "Now, we are ready to make our machine learning models. We will try to experiment how different our models can be if we use different parts of our dataset. First, we will try to use only the title of our dataset and see how good can be to predict the product. Then, we will use the review body. After that, we will use both columns, title and review body (this would be the most recommended). Last one, we will concatenate the feature vectors of the title and review body and compare with the rest of the models how good (or bad) could be using this approach."
   ]
  },
  {
   "cell_type": "markdown",
   "metadata": {},
   "source": [
    "## Using title"
   ]
  },
  {
   "cell_type": "code",
   "execution_count": 16,
   "metadata": {},
   "outputs": [],
   "source": [
    "from sklearn.feature_extraction.text import CountVectorizer\n",
    "from sklearn.metrics import roc_auc_score\n",
    "from sklearn.linear_model import LogisticRegressionCV\n",
    "from sklearn.pipeline import make_pipeline\n",
    "from sklearn.model_selection import cross_val_score\n",
    "from joblib import Memory\n",
    "\n",
    "location = './cachedir'\n",
    "memory = Memory(location, verbose=10)"
   ]
  },
  {
   "cell_type": "markdown",
   "metadata": {},
   "source": [
    "We are going to compare most frequent words in our models and the scores, to figure out which model is the best. "
   ]
  },
  {
   "cell_type": "code",
   "execution_count": 17,
   "metadata": {},
   "outputs": [
    {
     "name": "stdout",
     "output_type": "stream",
     "text": [
      "________________________________________________________________________________\n",
      "[Memory] Calling sklearn.pipeline._fit_transform_one...\n",
      "_fit_transform_one(CountVectorizer(analyzer='word', binary=False, decode_error='strict',\n",
      "        dtype=<class 'numpy.int64'>, encoding='utf-8', input='content',\n",
      "        lowercase=True, max_df=1.0, max_features=None, min_df=1,\n",
      "        ngram_range=(1, 1), preprocessor=None, stop_words=None,\n",
      "        strip_accents=None, token_pattern='(?u)\\\\b\\\\w\\\\w+\\\\b',\n",
      "        tokenizer=None, vocabulary=None), \n",
      "array(['Beautiful unique dress', ..., 'Beautiful, flowy,'], dtype=object), array([1, ..., 1], dtype=int64), None)\n",
      "________________________________________________fit_transform_one - 0.1s, 0.0min\n",
      "Accuracy score is: 0.9144998296809356\n",
      "ROC AUC score is:  0.8040719215269143\n"
     ]
    }
   ],
   "source": [
    "title=dataset.iloc[:,0].values\n",
    "recom=dataset.iloc[:,2].values\n",
    "\n",
    "vect_pipe = make_pipeline(CountVectorizer(),LogisticRegressionCV(),memory=memory)\n",
    "vect_pipe.fit(title,recom)\n",
    "predictions = vect_pipe.predict(title_test)\n",
    "\n",
    "print ('Accuracy score is:',vect_pipe.score(title,recom))\n",
    "print ('ROC AUC score is: ', roc_auc_score(recom, vect_pipe.predict(title)))"
   ]
  },
  {
   "cell_type": "code",
   "execution_count": 18,
   "metadata": {},
   "outputs": [
    {
     "name": "stdout",
     "output_type": "stream",
     "text": [
      "Accuracy score is: 0.9145566027023958\n",
      "ROC AUC score is:  0.8041064399942944\n"
     ]
    }
   ],
   "source": [
    "\n",
    "vect=CountVectorizer()\n",
    "title=dataset.iloc[:,0].values\n",
    "recom=dataset.iloc[:,2].values\n",
    "title_vect=vect.fit_transform(title)\n",
    "\n",
    "lr=LogisticRegressionCV(cv=5).fit(title_vect,recom)\n",
    "    \n",
    "print ('Accuracy score is:',lr.score(title_vect,recom))\n",
    "print ('ROC AUC score is: ', roc_auc_score(recom, lr.predict(title_vect)))\n"
   ]
  },
  {
   "cell_type": "markdown",
   "metadata": {},
   "source": [
    "If we compare both models, we are using a pipeline in the 'first model' with Logistic Regression and CountVectorizer. In the 'second model', we are using separate both functions. However, we obtained the same scores in both. This is what we want to show because these are different steps to obtain the same model. We need both steps because we need to show the most frequent words from the model and record the scores for a different dataset, in this case, test data."
   ]
  },
  {
   "cell_type": "code",
   "execution_count": 19,
   "metadata": {},
   "outputs": [
    {
     "name": "stdout",
     "output_type": "stream",
     "text": [
      "Accuracy score is: 0.8773841961852861\n",
      "ROC AUC score is:  0.739406990404529\n"
     ]
    }
   ],
   "source": [
    "print ('Accuracy score is:',vect_pipe.score(title_test,recom_test))\n",
    "print ('ROC AUC score is: ', roc_auc_score(recom_test, vect_pipe.predict(title_test)))"
   ]
  },
  {
   "cell_type": "markdown",
   "metadata": {},
   "source": [
    "We need to make the predictions with another set of data to avoid overfitting. In this case, we see that using the training set we obtained scores of 0.91 and 0.8. However, using the test set, we obtained 0.87 and 0.74"
   ]
  },
  {
   "cell_type": "code",
   "execution_count": 20,
   "metadata": {},
   "outputs": [
    {
     "data": {
      "image/png": "[encoded data removed]",
      "text/plain": [
       "<Figure size 432x288 with 1 Axes>"
      ]
     },
     "metadata": {
      "needs_background": "light"
     },
     "output_type": "display_data"
    }
   ],
   "source": [
    "coef_list=np.array(lr.coef_)\n",
    "coef_list=-np.sort(-lr.coef_)\n",
    "\n",
    "objects=[]\n",
    "performance=[]\n",
    "\n",
    "for i in range(20):\n",
    "    position = np.where(coef_list[0][i]==np.array(lr.coef_).flatten())\n",
    "    feat=vect.get_feature_names()[position[0][0]]\n",
    "    objects.append(feat)\n",
    "    performance.append(coef_list[0][i])\n",
    "    #print('feature {}: {}'.format(i+1,feat))\n",
    "    \n",
    "    \n",
    "y_pos = np.arange(len(objects))\n",
    " \n",
    "plt.barh(y_pos, performance, align='center', alpha=0.5)\n",
    "plt.yticks(y_pos, objects)\n",
    "plt.xlabel('Coefficient')\n",
    "plt.title('The 20 most important features')\n",
    " \n",
    "plt.show()"
   ]
  },
  {
   "cell_type": "markdown",
   "metadata": {},
   "source": [
    "Let's try to tune our model. In this case, we are going to add the parameter stop_words."
   ]
  },
  {
   "cell_type": "code",
   "execution_count": 21,
   "metadata": {},
   "outputs": [
    {
     "name": "stdout",
     "output_type": "stream",
     "text": [
      "________________________________________________________________________________\n",
      "[Memory] Calling sklearn.pipeline._fit_transform_one...\n",
      "_fit_transform_one(CountVectorizer(analyzer='word', binary=False, decode_error='strict',\n",
      "        dtype=<class 'numpy.int64'>, encoding='utf-8', input='content',\n",
      "        lowercase=True, max_df=1.0, max_features=None, min_df=1,\n",
      "        ngram_range=(1, 1), preprocessor=None, stop_words='english',\n",
      "        strip_accents=None, token_pattern='(?u)\\\\b\\\\w\\\\w+\\\\b',\n",
      "        tokenizer=None, vocabulary=None), \n",
      "array(['Beautiful unique dress', ..., 'Beautiful, flowy,'], dtype=object), array([1, ..., 1], dtype=int64), None)\n",
      "________________________________________________fit_transform_one - 0.1s, 0.0min\n"
     ]
    },
    {
     "data": {
      "image/png": "[encoded data removed]",
      "text/plain": [
       "<Figure size 432x288 with 1 Axes>"
      ]
     },
     "metadata": {
      "needs_background": "light"
     },
     "output_type": "display_data"
    },
    {
     "name": "stdout",
     "output_type": "stream",
     "text": [
      "Accuracy score is: 0.8702316076294278\n",
      "ROC AUC score is:  0.6970978907197587\n"
     ]
    }
   ],
   "source": [
    "vect=CountVectorizer(stop_words='english')\n",
    "title_vect=vect.fit_transform(title)\n",
    "\n",
    "lr=LogisticRegressionCV(cv=5).fit(title_vect,recom)\n",
    "\n",
    "vect_pipe = make_pipeline(CountVectorizer(stop_words='english'),LogisticRegressionCV(),memory=memory)\n",
    "vect_pipe.fit(title,recom)\n",
    "predictions = vect_pipe.predict(title_test)\n",
    "\n",
    "\n",
    "coef_list=np.array(lr.coef_)\n",
    "coef_list=-np.sort(-lr.coef_)\n",
    "\n",
    "objects=[]\n",
    "performance=[]\n",
    "\n",
    "for i in range(20):\n",
    "    position = np.where(coef_list[0][i]==np.array(lr.coef_).flatten())\n",
    "    feat=vect.get_feature_names()[position[0][0]]\n",
    "    objects.append(feat)\n",
    "    performance.append(coef_list[0][i])\n",
    "    #print('feature {}: {}'.format(i+1,feat))\n",
    "    \n",
    "    \n",
    "y_pos = np.arange(len(objects))\n",
    " \n",
    "plt.barh(y_pos, performance, align='center', alpha=0.5)\n",
    "plt.yticks(y_pos, objects)\n",
    "plt.xlabel('Coefficient')\n",
    "plt.title('The 20 most important features')\n",
    " \n",
    "plt.show()\n",
    "\n",
    "\n",
    "print ('Accuracy score is:',vect_pipe.score(title_test,recom_test))\n",
    "print ('ROC AUC score is: ', roc_auc_score(recom_test, vect_pipe.predict(title_test)))"
   ]
  },
  {
   "cell_type": "markdown",
   "metadata": {},
   "source": [
    "We are using Accuracy and Roc Auc scores to see how good are our models. Have in mind we need roc auc score because we are working with a imbalanced dataset. In the table below, we can see the difference between the scores are not so different."
   ]
  },
  {
   "cell_type": "markdown",
   "metadata": {},
   "source": [
    "<table><tr><th></th><th>Accuracy</th><th>Roc auc</th></tr>\n",
    "    \n",
    "<tr><td>Title model</td><td>0.88</td><td>0.73</td></tr>\n",
    "<tr><td>Tunning Title model</td><td> 0.87 </td><td>0.70</td></tr>"
   ]
  },
  {
   "cell_type": "markdown",
   "metadata": {},
   "source": [
    "## Using review body"
   ]
  },
  {
   "cell_type": "code",
   "execution_count": 22,
   "metadata": {},
   "outputs": [
    {
     "name": "stdout",
     "output_type": "stream",
     "text": [
      "________________________________________________________________________________\n",
      "[Memory] Calling sklearn.pipeline._fit_transform_one...\n",
      "_fit_transform_one(CountVectorizer(analyzer='word', binary=False, decode_error='strict',\n",
      "        dtype=<class 'numpy.int64'>, encoding='utf-8', input='content',\n",
      "        lowercase=True, max_df=1.0, max_features=None, min_df=1,\n",
      "        ngram_range=(1, 1), preprocessor=None, stop_words=None,\n",
      "        strip_accents=None, token_pattern='(?u)\\\\b\\\\w\\\\w+\\\\b',\n",
      "        tokenizer=None, vocabulary=None), \n",
      "array(['Wore this to my sons wedding. found it last minute when i had changed my mind about another byron lars dress. i felt awesome in it and got many compliments',\n",
      "       ...,\n",
      "       'I fell in love with this shirt in the store and it has become one of my favorite items in my closet! the bright pink contrasts perfectly with the white peplum bottom and the fit is wonderfully flattering!'],\n",
      "      dtype=object), \n",
      "array([1, ..., 1], dtype=int64), None)\n",
      "________________________________________________fit_transform_one - 0.9s, 0.0min\n"
     ]
    },
    {
     "data": {
      "image/png": "[encoded data removed]",
      "text/plain": [
       "<Figure size 432x288 with 1 Axes>"
      ]
     },
     "metadata": {
      "needs_background": "light"
     },
     "output_type": "display_data"
    },
    {
     "name": "stdout",
     "output_type": "stream",
     "text": [
      "Accuracy score is: 0.8877724795640327\n",
      "ROC AUC score is:  0.7784215371853536\n"
     ]
    }
   ],
   "source": [
    "rev=dataset.iloc[:,1].values\n",
    "rev_test=dataset_test.iloc[:,1].values\n",
    "\n",
    "vect_2=CountVectorizer()\n",
    "rev_vect=vect_2.fit_transform(rev)\n",
    "\n",
    "lr_2=LogisticRegressionCV(cv=5).fit(rev_vect,recom)\n",
    "\n",
    "vect_pipe = make_pipeline(CountVectorizer(),LogisticRegressionCV(),memory=memory)\n",
    "vect_pipe.fit(rev,recom)\n",
    "\n",
    "\n",
    "coef_list=np.array(lr_2.coef_)\n",
    "coef_list=-np.sort(-lr_2.coef_)\n",
    "\n",
    "objects=[]\n",
    "performance=[]\n",
    "\n",
    "for i in range(20):\n",
    "    position = np.where(coef_list[0][i]==np.array(lr_2.coef_).flatten())\n",
    "    feat=vect_2.get_feature_names()[position[0][0]]\n",
    "    objects.append(feat)\n",
    "    performance.append(coef_list[0][i])\n",
    "    #print('feature {}: {}'.format(i+1,feat))\n",
    "    \n",
    "    \n",
    "y_pos = np.arange(len(objects))\n",
    " \n",
    "plt.barh(y_pos, performance, align='center', alpha=0.5)\n",
    "plt.yticks(y_pos, objects)\n",
    "plt.xlabel('Coefficient')\n",
    "plt.title('The 20 most important features')\n",
    " \n",
    "plt.show()\n",
    "\n",
    "\n",
    "print ('Accuracy score is:',vect_pipe.score(rev_test,recom_test))\n",
    "print ('ROC AUC score is: ', roc_auc_score(recom_test, vect_pipe.predict(rev_test)))"
   ]
  },
  {
   "cell_type": "code",
   "execution_count": 23,
   "metadata": {},
   "outputs": [
    {
     "name": "stdout",
     "output_type": "stream",
     "text": [
      "________________________________________________________________________________\n",
      "[Memory] Calling sklearn.pipeline._fit_transform_one...\n",
      "_fit_transform_one(CountVectorizer(analyzer='word', binary=False, decode_error='strict',\n",
      "        dtype=<class 'numpy.int64'>, encoding='utf-8', input='content',\n",
      "        lowercase=True, max_df=1.0, max_features=None, min_df=4,\n",
      "        ngram_range=range(1, 3), preprocessor=None, stop_words='english',\n",
      "        strip_accents=None, token_pattern='(?u)\\\\b\\\\w\\\\w+\\\\b',\n",
      "        tokenizer=None, vocabulary=None), \n",
      "array(['Wore this to my sons wedding. found it last minute when i had changed my mind about another byron lars dress. i felt awesome in it and got many compliments',\n",
      "       ...,\n",
      "       'I fell in love with this shirt in the store and it has become one of my favorite items in my closet! the bright pink contrasts perfectly with the white peplum bottom and the fit is wonderfully flattering!'],\n",
      "      dtype=object), \n",
      "array([1, ..., 1], dtype=int64), None)\n",
      "________________________________________________fit_transform_one - 2.4s, 0.0min\n"
     ]
    },
    {
     "data": {
      "image/png": "[encoded data removed]",
      "text/plain": [
       "<Figure size 432x288 with 1 Axes>"
      ]
     },
     "metadata": {
      "needs_background": "light"
     },
     "output_type": "display_data"
    },
    {
     "name": "stdout",
     "output_type": "stream",
     "text": [
      "Accuracy score is: 0.8823228882833788\n",
      "ROC AUC score is:  0.7574434936575862\n"
     ]
    }
   ],
   "source": [
    "rev=dataset.iloc[:,1].values\n",
    "vect_2=CountVectorizer(stop_words='english',min_df=4,ngram_range=range(1,3))\n",
    "rev_vect=vect_2.fit_transform(rev)\n",
    "\n",
    "lr_2=LogisticRegressionCV(cv=5).fit(rev_vect,recom)\n",
    "\n",
    "vect_pipe = make_pipeline(CountVectorizer(stop_words='english',min_df=4,ngram_range=range(1,3)),\n",
    "                          LogisticRegressionCV(),memory=memory)\n",
    "vect_pipe.fit(rev,recom)\n",
    "\n",
    "coef_list=np.array(lr_2.coef_)\n",
    "coef_list=-np.sort(-lr_2.coef_)\n",
    "\n",
    "objects=[]\n",
    "performance=[]\n",
    "\n",
    "for i in range(20):\n",
    "    position = np.where(coef_list[0][i]==np.array(lr_2.coef_).flatten())\n",
    "    feat=vect_2.get_feature_names()[position[0][0]]\n",
    "    objects.append(feat)\n",
    "    performance.append(coef_list[0][i])\n",
    "    #print('feature {}: {}'.format(i+1,feat))\n",
    "    \n",
    "    \n",
    "y_pos = np.arange(len(objects))\n",
    " \n",
    "plt.barh(y_pos, performance, align='center', alpha=0.5)\n",
    "plt.yticks(y_pos, objects)\n",
    "plt.xlabel('Coefficient')\n",
    "plt.title('The 20 most important features')\n",
    " \n",
    "plt.show()\n",
    "\n",
    "\n",
    "print ('Accuracy score is:',vect_pipe.score(rev_test,recom_test))\n",
    "print ('ROC AUC score is: ', roc_auc_score(recom_test, vect_pipe.predict(rev_test)))\n"
   ]
  },
  {
   "cell_type": "markdown",
   "metadata": {},
   "source": [
    "There's  no much difference between the models' scores"
   ]
  },
  {
   "cell_type": "markdown",
   "metadata": {},
   "source": [
    "<table><tr><th></th><th>Accuracy</th><th>Roc auc</th></tr>\n",
    "    \n",
    "<tr><td>Review body model</td><td>0.88</td><td>0.77</td></tr>\n",
    "<tr><td>Tunning review body model</td><td> 0.88 </td><td>0.76</td></tr>"
   ]
  },
  {
   "cell_type": "markdown",
   "metadata": {},
   "source": [
    "## Using title and review"
   ]
  },
  {
   "cell_type": "code",
   "execution_count": 24,
   "metadata": {},
   "outputs": [],
   "source": [
    "dataset[\"Title&Review\"] = dataset[\"Title\"].map(str) + ' ' +dataset[\"Review\"]\n",
    "\n",
    "tit_rev=dataset.iloc[:,3].values\n",
    "\n",
    "dataset_test[\"Title&Review\"] = dataset_test[\"Title\"].map(str) + ' ' +dataset_test[\"Review\"]\n",
    "\n",
    "tit_rev_test=dataset_test.iloc[:,3].values"
   ]
  },
  {
   "cell_type": "code",
   "execution_count": 25,
   "metadata": {},
   "outputs": [
    {
     "name": "stdout",
     "output_type": "stream",
     "text": [
      "________________________________________________________________________________\n",
      "[Memory] Calling sklearn.pipeline._fit_transform_one...\n",
      "_fit_transform_one(CountVectorizer(analyzer='word', binary=False, decode_error='strict',\n",
      "        dtype=<class 'numpy.int64'>, encoding='utf-8', input='content',\n",
      "        lowercase=True, max_df=1.0, max_features=None, min_df=1,\n",
      "        ngram_range=(1, 1), preprocessor=None, stop_words=None,\n",
      "        strip_accents=None, token_pattern='(?u)\\\\b\\\\w\\\\w+\\\\b',\n",
      "        tokenizer=None, vocabulary=None), \n",
      "array(['Beautiful unique dress Wore this to my sons wedding. found it last minute when i had changed my mind about another byron lars dress. i felt awesome in it and got many compliments',\n",
      "       ...,\n",
      "       'Beautiful, flowy, I fell in love with this shirt in the store and it has become one of my favorite items in my closet! the bright pink contrasts perfectly with the white peplum bottom and the fit is wonderfully flattering!'],\n",
      "      dtype=object), \n",
      "array([1, ..., 1], dtype=int64), None)\n",
      "________________________________________________fit_transform_one - 0.9s, 0.0min\n"
     ]
    },
    {
     "data": {
      "image/png": "[encoded data removed]",
      "text/plain": [
       "<Figure size 432x288 with 1 Axes>"
      ]
     },
     "metadata": {
      "needs_background": "light"
     },
     "output_type": "display_data"
    },
    {
     "name": "stdout",
     "output_type": "stream",
     "text": [
      "Accuracy score is: 0.8969686648501363\n",
      "ROC AUC score is:  0.8013016397615318\n"
     ]
    }
   ],
   "source": [
    "\n",
    "\n",
    "vect_3=CountVectorizer()\n",
    "tit_rev_vect=vect_3.fit_transform(tit_rev)\n",
    "\n",
    "lr_3=LogisticRegressionCV(cv=5).fit(tit_rev_vect,recom)\n",
    "\n",
    "vect_pipe = make_pipeline(CountVectorizer(),LogisticRegressionCV(),memory=memory)\n",
    "vect_pipe.fit(tit_rev,recom)\n",
    "\n",
    "coef_list=np.array(lr_3.coef_)\n",
    "coef_list=-np.sort(-lr_3.coef_)\n",
    "\n",
    "objects=[]\n",
    "performance=[]\n",
    "\n",
    "for i in range(20):\n",
    "    position = np.where(coef_list[0][i]==np.array(lr_3.coef_).flatten())\n",
    "    feat=vect_3.get_feature_names()[position[0][0]]\n",
    "    objects.append(feat)\n",
    "    performance.append(coef_list[0][i])\n",
    "    #print('feature {}: {}'.format(i+1,feat))\n",
    "    \n",
    "    \n",
    "y_pos = np.arange(len(objects))\n",
    " \n",
    "plt.barh(y_pos, performance, align='center', alpha=0.5)\n",
    "plt.yticks(y_pos, objects)\n",
    "plt.xlabel('Coefficient')\n",
    "plt.title('The 20 most important features')\n",
    " \n",
    "plt.show()\n",
    "\n",
    "\n",
    "print ('Accuracy score is:',vect_pipe.score(tit_rev_test,recom_test))\n",
    "print ('ROC AUC score is: ', roc_auc_score(recom_test, vect_pipe.predict(tit_rev_test)))\n"
   ]
  },
  {
   "cell_type": "code",
   "execution_count": null,
   "metadata": {},
   "outputs": [],
   "source": []
  },
  {
   "cell_type": "code",
   "execution_count": 26,
   "metadata": {},
   "outputs": [
    {
     "name": "stdout",
     "output_type": "stream",
     "text": [
      "________________________________________________________________________________\n",
      "[Memory] Calling sklearn.pipeline._fit_transform_one...\n",
      "_fit_transform_one(CountVectorizer(analyzer='word', binary=False, decode_error='strict',\n",
      "        dtype=<class 'numpy.int64'>, encoding='utf-8', input='content',\n",
      "        lowercase=True, max_df=1.0, max_features=None, min_df=4,\n",
      "        ngram_range=range(1, 3), preprocessor=None, stop_words='english',\n",
      "        strip_accents=None, token_pattern='(?u)\\\\b\\\\w\\\\w+\\\\b',\n",
      "        tokenizer=None, vocabulary=None), \n",
      "array(['Beautiful unique dress Wore this to my sons wedding. found it last minute when i had changed my mind about another byron lars dress. i felt awesome in it and got many compliments',\n",
      "       ...,\n",
      "       'Beautiful, flowy, I fell in love with this shirt in the store and it has become one of my favorite items in my closet! the bright pink contrasts perfectly with the white peplum bottom and the fit is wonderfully flattering!'],\n",
      "      dtype=object), \n",
      "array([1, ..., 1], dtype=int64), None)\n",
      "________________________________________________fit_transform_one - 2.6s, 0.0min\n"
     ]
    },
    {
     "data": {
      "image/png": "[encoded data removed]",
      "text/plain": [
       "<Figure size 432x288 with 1 Axes>"
      ]
     },
     "metadata": {
      "needs_background": "light"
     },
     "output_type": "display_data"
    },
    {
     "name": "stdout",
     "output_type": "stream",
     "text": [
      "Accuracy score is: 0.8956062670299727\n",
      "ROC AUC score is:  0.7876945714083199\n"
     ]
    }
   ],
   "source": [
    "vect_3=CountVectorizer(stop_words='english',min_df=4,ngram_range=range(1,3))\n",
    "tit_rev_vect=vect_3.fit_transform(tit_rev)\n",
    "\n",
    "\n",
    "\n",
    "lr_3=LogisticRegressionCV(cv=5).fit(tit_rev_vect,recom)\n",
    "\n",
    "vect_pipe = make_pipeline(CountVectorizer(stop_words='english',min_df=4,ngram_range=range(1,3)),\n",
    "                          LogisticRegressionCV(),memory=memory)\n",
    "vect_pipe.fit(tit_rev,recom)\n",
    "\n",
    "coef_list=np.array(lr_3.coef_)\n",
    "coef_list=-np.sort(-lr_3.coef_)\n",
    "\n",
    "objects=[]\n",
    "performance=[]\n",
    "\n",
    "for i in range(20):\n",
    "    position = np.where(coef_list[0][i]==np.array(lr_3.coef_).flatten())\n",
    "    feat=vect_3.get_feature_names()[position[0][0]]\n",
    "    objects.append(feat)\n",
    "    performance.append(coef_list[0][i])\n",
    "    #print('feature {}: {}'.format(i+1,feat))\n",
    "    \n",
    "    \n",
    "y_pos = np.arange(len(objects))\n",
    " \n",
    "plt.barh(y_pos, performance, align='center', alpha=0.5)\n",
    "plt.yticks(y_pos, objects)\n",
    "plt.xlabel('Coefficient')\n",
    "plt.title('The 20 most important features')\n",
    " \n",
    "plt.show()\n",
    "\n",
    "\n",
    "print ('Accuracy score is:',vect_pipe.score(tit_rev_test,recom_test))\n",
    "print ('ROC AUC score is: ', roc_auc_score(recom_test, vect_pipe.predict(tit_rev_test)))\n"
   ]
  },
  {
   "cell_type": "markdown",
   "metadata": {},
   "source": [
    "We see there is a slight difference between the two models."
   ]
  },
  {
   "cell_type": "markdown",
   "metadata": {},
   "source": [
    "<table><tr><th></th><th>Accuracy</th><th>Roc auc</th></tr>\n",
    "    \n",
    "<tr><td>Title & Review body model</td><td>0.90</td><td>0.80</td></tr>\n",
    "<tr><td>Tunning Title & review body model</td><td> 0.90 </td><td>0.79</td></tr>"
   ]
  },
  {
   "cell_type": "markdown",
   "metadata": {},
   "source": [
    "Now, we are going to compare all model's scores to see which approach is the ideal to manage this dataset."
   ]
  },
  {
   "cell_type": "markdown",
   "metadata": {},
   "source": [
    "<table><tr><th></th><th>Accuracy</th><th>Roc auc</th></tr>\n",
    "     \n",
    "<tr><td>Title model</td><td>0.88</td><td>0.73</td></tr>\n",
    "<tr><td>Tunning Title model</td><td> 0.87 </td><td>0.70</td></tr>\n",
    "<tr><td>Review body model</td><td>0.88</td><td>0.77</td></tr>\n",
    "<tr><td>Tunning review body model</td><td> 0.88 </td><td>0.76</td></tr>\n",
    "<tr><td>Title & Review body model</td><td>0.90</td><td>0.80</td></tr>\n",
    "<tr><td>Tunning Title & review body model</td><td> 0.90 </td><td>0.79</td></tr>"
   ]
  },
  {
   "cell_type": "markdown",
   "metadata": {},
   "source": [
    "We can conclude that the model using the title and review body is the best among all, so we decide to use this for the rest of the problem."
   ]
  },
  {
   "cell_type": "markdown",
   "metadata": {},
   "source": [
    "## Using Tf-dif"
   ]
  },
  {
   "cell_type": "markdown",
   "metadata": {},
   "source": [
    "Next, we will introduce another method to obtain the feature matrix. We introduce Tfidf algorithm and we will compare this with the CountVectorizer we used before."
   ]
  },
  {
   "cell_type": "code",
   "execution_count": 27,
   "metadata": {},
   "outputs": [],
   "source": [
    "from sklearn.feature_extraction.text import TfidfVectorizer"
   ]
  },
  {
   "cell_type": "code",
   "execution_count": 28,
   "metadata": {},
   "outputs": [
    {
     "name": "stdout",
     "output_type": "stream",
     "text": [
      "________________________________________________________________________________\n",
      "[Memory] Calling sklearn.pipeline._fit_transform_one...\n",
      "_fit_transform_one(TfidfVectorizer(analyzer='word', binary=False, decode_error='strict',\n",
      "        dtype=<class 'numpy.float64'>, encoding='utf-8', input='content',\n",
      "        lowercase=True, max_df=1.0, max_features=None, min_df=1,\n",
      "        ngram_range=(1, 1), norm=None, preprocessor=None, smooth_idf=True,\n",
      "        stop_words=None, strip_accents=None, sublinear_tf=False,\n",
      "        token_pattern='(?u)\\\\b\\\\w\\\\w+\\\\b', tokenizer=None, use_idf=True,\n",
      "        vocabulary=None), \n",
      "array(['Beautiful unique dress Wore this to my sons wedding. found it last minute when i had changed my mind about another byron lars dress. i felt awesome in it and got many compliments',\n",
      "       ...,\n",
      "       'Beautiful, flowy, I fell in love with this shirt in the store and it has become one of my favorite items in my closet! the bright pink contrasts perfectly with the white peplum bottom and the fit is wonderfully flattering!'],\n",
      "      dtype=object), \n",
      "array([1, ..., 1], dtype=int64), None)\n",
      "________________________________________________fit_transform_one - 0.9s, 0.0min\n",
      "Accuracy score is: 0.9000340599455041\n",
      "ROC AUC score is:  0.8005344627090205\n"
     ]
    }
   ],
   "source": [
    "\n",
    "tfid_transf=TfidfVectorizer(norm=None)\n",
    "tfid_fitted=tfid_transf.fit_transform(tit_rev)\n",
    "\n",
    "\n",
    "lr_tfi=LogisticRegressionCV(cv=5).fit(tfid_fitted,recom)\n",
    "\n",
    "tfdif_pipe = make_pipeline(TfidfVectorizer(norm=None),LogisticRegressionCV(),memory=memory)\n",
    "tfdif_pipe.fit(tit_rev,recom)\n",
    "\n",
    "\n",
    "print ('Accuracy score is:',tfdif_pipe.score(tit_rev_test,recom_test))\n",
    "print ('ROC AUC score is: ', roc_auc_score(recom_test, tfdif_pipe.predict(tit_rev_test)))"
   ]
  },
  {
   "cell_type": "markdown",
   "metadata": {},
   "source": [
    "<table><tr><th></th><th>Accuracy</th><th>Roc auc</th></tr>\n",
    "\n",
    "<tr><td>Title & review body model using CountVectorizer</td><td> 0.90 </td><td>0.80</td></tr>\n",
    "<tr><td>Title & Review body model using tfidf</td><td>0.90</td><td>0.80</td></tr>"
   ]
  },
  {
   "cell_type": "markdown",
   "metadata": {},
   "source": [
    "We see there's not much difference between both algorithms. Let's see now if the most important features of each model have changed."
   ]
  },
  {
   "cell_type": "code",
   "execution_count": 29,
   "metadata": {},
   "outputs": [
    {
     "data": {
      "image/png": "[encoded data removed]",
      "text/plain": [
       "<Figure size 432x288 with 1 Axes>"
      ]
     },
     "metadata": {
      "needs_background": "light"
     },
     "output_type": "display_data"
    }
   ],
   "source": [
    "coef_list=np.array(lr_3.coef_)\n",
    "coef_list=-np.sort(-lr_3.coef_)\n",
    "\n",
    "objects=[]\n",
    "performance=[]\n",
    "\n",
    "for i in range(20):\n",
    "    position = np.where(coef_list[0][i]==np.array(lr_3.coef_).flatten())\n",
    "    feat=vect_3.get_feature_names()[position[0][0]]\n",
    "    objects.append(feat)\n",
    "    performance.append(coef_list[0][i])\n",
    "    #print('feature {}: {}'.format(i+1,feat))\n",
    "    \n",
    "    \n",
    "y_pos = np.arange(len(objects))\n",
    " \n",
    "plt.barh(y_pos, performance, align='center', alpha=0.5)\n",
    "plt.yticks(y_pos, objects)\n",
    "plt.xlabel('Coefficient')\n",
    "plt.title('The 20 most important features using CountVectorizer')\n",
    " \n",
    "plt.show()"
   ]
  },
  {
   "cell_type": "code",
   "execution_count": 30,
   "metadata": {},
   "outputs": [
    {
     "data": {
      "image/png": "[encoded data removed]",
      "text/plain": [
       "<Figure size 432x288 with 1 Axes>"
      ]
     },
     "metadata": {
      "needs_background": "light"
     },
     "output_type": "display_data"
    }
   ],
   "source": [
    "coef_list=np.array(lr_tfi.coef_)\n",
    "coef_list=-np.sort(-lr_tfi.coef_)\n",
    "\n",
    "objects=[]\n",
    "performance=[]\n",
    "\n",
    "for i in range(20):\n",
    "    position = np.where(coef_list[0][i]==np.array(lr_tfi.coef_).flatten())\n",
    "    feat=tfid_transf.get_feature_names()[position[0][0]]\n",
    "    objects.append(feat)\n",
    "    performance.append(coef_list[0][i])\n",
    "    #print('feature {}: {}'.format(i+1,feat))\n",
    "    \n",
    "    \n",
    "y_pos = np.arange(len(objects))\n",
    " \n",
    "plt.barh(y_pos, performance, align='center', alpha=0.5)\n",
    "plt.yticks(y_pos, objects)\n",
    "plt.xlabel('Coefficient')\n",
    "plt.title('The 20 most important features using Tfdif')\n",
    " \n",
    "plt.show()"
   ]
  },
  {
   "cell_type": "markdown",
   "metadata": {},
   "source": [
    "The most important features for each model have changed because they are using different approaches to obtain the feature matrix, so it's understandable these words are not equal."
   ]
  },
  {
   "cell_type": "markdown",
   "metadata": {},
   "source": [
    "Now, we are going to see how different is the model if we change some parameters. In this case, we are going to change the normalization parameter."
   ]
  },
  {
   "cell_type": "code",
   "execution_count": 31,
   "metadata": {},
   "outputs": [
    {
     "name": "stdout",
     "output_type": "stream",
     "text": [
      "________________________________________________________________________________\n",
      "[Memory] Calling sklearn.pipeline._fit_transform_one...\n",
      "_fit_transform_one(TfidfVectorizer(analyzer='word', binary=False, decode_error='strict',\n",
      "        dtype=<class 'numpy.float64'>, encoding='utf-8', input='content',\n",
      "        lowercase=True, max_df=1.0, max_features=None, min_df=1,\n",
      "        ngram_range=(1, 1), norm='l2', preprocessor=None, smooth_idf=True,\n",
      "        stop_words=None, strip_accents=None, sublinear_tf=False,\n",
      "        token_pattern='(?u)\\\\b\\\\w\\\\w+\\\\b', tokenizer=None, use_idf=True,\n",
      "        vocabulary=None), \n",
      "array(['Beautiful unique dress Wore this to my sons wedding. found it last minute when i had changed my mind about another byron lars dress. i felt awesome in it and got many compliments',\n",
      "       ...,\n",
      "       'Beautiful, flowy, I fell in love with this shirt in the store and it has become one of my favorite items in my closet! the bright pink contrasts perfectly with the white peplum bottom and the fit is wonderfully flattering!'],\n",
      "      dtype=object), \n",
      "array([1, ..., 1], dtype=int64), None)\n",
      "________________________________________________fit_transform_one - 1.0s, 0.0min\n",
      "Accuracy score is: 0.9017370572207084\n",
      "ROC AUC score is:  0.7955563492934883\n"
     ]
    }
   ],
   "source": [
    "\n",
    "tfid_transf_l2=TfidfVectorizer(norm='l2')\n",
    "tfid_fitted_l2=tfid_transf_l2.fit_transform(tit_rev)\n",
    "\n",
    "\n",
    "lr_tfi_l2=LogisticRegressionCV(cv=5).fit(tfid_fitted_l2,recom)\n",
    "\n",
    "tfdif_pipe = make_pipeline(TfidfVectorizer(norm='l2'),LogisticRegressionCV(),memory=memory)\n",
    "tfdif_pipe.fit(tit_rev,recom)\n",
    "\n",
    "\n",
    "print ('Accuracy score is:',tfdif_pipe.score(tit_rev_test,recom_test))\n",
    "print ('ROC AUC score is: ', roc_auc_score(recom_test, tfdif_pipe.predict(tit_rev_test)))"
   ]
  },
  {
   "cell_type": "code",
   "execution_count": 32,
   "metadata": {},
   "outputs": [
    {
     "data": {
      "image/png": "[encoded data removed]",
      "text/plain": [
       "<Figure size 432x288 with 1 Axes>"
      ]
     },
     "metadata": {
      "needs_background": "light"
     },
     "output_type": "display_data"
    }
   ],
   "source": [
    "coef_list=np.array(lr_tfi_l2.coef_)\n",
    "coef_list=-np.sort(-lr_tfi_l2.coef_)\n",
    "\n",
    "objects=[]\n",
    "performance=[]\n",
    "\n",
    "for i in range(20):\n",
    "    position = np.where(coef_list[0][i]==np.array(lr_tfi_l2.coef_).flatten())\n",
    "    feat=tfid_transf_l2.get_feature_names()[position[0][0]]\n",
    "    objects.append(feat)\n",
    "    performance.append(coef_list[0][i])\n",
    "    \n",
    "    \n",
    "y_pos = np.arange(len(objects))\n",
    " \n",
    "plt.barh(y_pos, performance, align='center', alpha=0.5)\n",
    "plt.yticks(y_pos, objects)\n",
    "plt.xlabel('Coefficient')\n",
    "plt.title('The 20 most important features')\n",
    " \n",
    "plt.show()"
   ]
  },
  {
   "cell_type": "markdown",
   "metadata": {},
   "source": [
    "Here, we are changing the normalization parameter from l2 to l1"
   ]
  },
  {
   "cell_type": "code",
   "execution_count": 33,
   "metadata": {},
   "outputs": [
    {
     "name": "stdout",
     "output_type": "stream",
     "text": [
      "________________________________________________________________________________\n",
      "[Memory] Calling sklearn.pipeline._fit_transform_one...\n",
      "_fit_transform_one(TfidfVectorizer(analyzer='word', binary=False, decode_error='strict',\n",
      "        dtype=<class 'numpy.float64'>, encoding='utf-8', input='content',\n",
      "        lowercase=True, max_df=1.0, max_features=None, min_df=1,\n",
      "        ngram_range=(1, 1), norm='l1', preprocessor=None, smooth_idf=True,\n",
      "        stop_words=None, strip_accents=None, sublinear_tf=False,\n",
      "        token_pattern='(?u)\\\\b\\\\w\\\\w+\\\\b', tokenizer=None, use_idf=True,\n",
      "        vocabulary=None), \n",
      "array(['Beautiful unique dress Wore this to my sons wedding. found it last minute when i had changed my mind about another byron lars dress. i felt awesome in it and got many compliments',\n",
      "       ...,\n",
      "       'Beautiful, flowy, I fell in love with this shirt in the store and it has become one of my favorite items in my closet! the bright pink contrasts perfectly with the white peplum bottom and the fit is wonderfully flattering!'],\n",
      "      dtype=object), \n",
      "array([1, ..., 1], dtype=int64), None)\n",
      "________________________________________________fit_transform_one - 1.0s, 0.0min\n",
      "Accuracy score is: 0.9036103542234333\n",
      "ROC AUC score is:  0.8015812900923968\n"
     ]
    }
   ],
   "source": [
    "\n",
    "tfid_transf_l1=TfidfVectorizer(norm='l1')\n",
    "tfid_fitted_l1=tfid_transf_l1.fit_transform(tit_rev)\n",
    "\n",
    "\n",
    "lr_tfi_l1=LogisticRegressionCV(cv=5).fit(tfid_fitted_l1,recom)\n",
    "\n",
    "tfdif_pipe = make_pipeline(TfidfVectorizer(norm='l1'),LogisticRegressionCV(),memory=memory)\n",
    "tfdif_pipe.fit(tit_rev,recom)\n",
    "\n",
    "\n",
    "print ('Accuracy score is:',tfdif_pipe.score(tit_rev_test,recom_test))\n",
    "print ('ROC AUC score is: ', roc_auc_score(recom_test, tfdif_pipe.predict(tit_rev_test)))"
   ]
  },
  {
   "cell_type": "code",
   "execution_count": 34,
   "metadata": {},
   "outputs": [
    {
     "data": {
      "image/png": "[encoded data removed]",
      "text/plain": [
       "<Figure size 432x288 with 1 Axes>"
      ]
     },
     "metadata": {
      "needs_background": "light"
     },
     "output_type": "display_data"
    }
   ],
   "source": [
    "coef_list=np.array(lr_tfi_l1.coef_)\n",
    "coef_list=-np.sort(-lr_tfi_l1.coef_)\n",
    "\n",
    "objects=[]\n",
    "performance=[]\n",
    "\n",
    "for i in range(20):\n",
    "    position = np.where(coef_list[0][i]==np.array(lr_tfi_l1.coef_).flatten())\n",
    "    feat=tfid_transf_l1.get_feature_names()[position[0][0]]\n",
    "    objects.append(feat)\n",
    "    performance.append(coef_list[0][i])\n",
    "    \n",
    "    \n",
    "y_pos = np.arange(len(objects))\n",
    " \n",
    "plt.barh(y_pos, performance, align='center', alpha=0.5)\n",
    "plt.yticks(y_pos, objects)\n",
    "plt.xlabel('Coefficient')\n",
    "plt.title('The 20 most important features')\n",
    " \n",
    "plt.show()"
   ]
  },
  {
   "cell_type": "markdown",
   "metadata": {},
   "source": [
    "<table><tr><th></th><th>Accuracy</th><th>Roc auc</th></tr>\n",
    "\n",
    "<tr><td>Tfdif approach without normalization</td><td> 0.900 </td><td>0.800</td></tr>\n",
    "<tr><td>Tfdif approach with normalization l2</td><td> 0.901 </td><td>0.795</td></tr>\n",
    "<tr><td>Tfdif approach with normalization l1</td><td>0.903</td><td>0.800</td></tr>"
   ]
  },
  {
   "cell_type": "markdown",
   "metadata": {},
   "source": [
    "In the table above, we see that there's not big difference between the normalization parameters we used for each model. Also, if we compare the most frequent words of each model, we see that these words doesn't change at all ('perfect', 'love', 'unique', 'great' are included in every model). Now, we are going to try to change some parameters of tfdif function to see if they have an impact in the results of our models."
   ]
  },
  {
   "cell_type": "markdown",
   "metadata": {},
   "source": [
    "Here, we are going to use the parameters stop_words, which is going to exclude the most frequent words in our corpus. i.e. 'the', 'a','an', among others."
   ]
  },
  {
   "cell_type": "code",
   "execution_count": 35,
   "metadata": {},
   "outputs": [
    {
     "name": "stdout",
     "output_type": "stream",
     "text": [
      "________________________________________________________________________________\n",
      "[Memory] Calling sklearn.pipeline._fit_transform_one...\n",
      "_fit_transform_one(TfidfVectorizer(analyzer='word', binary=False, decode_error='strict',\n",
      "        dtype=<class 'numpy.float64'>, encoding='utf-8', input='content',\n",
      "        lowercase=True, max_df=1.0, max_features=None, min_df=1,\n",
      "        ngram_range=(1, 1), norm='l1', preprocessor=None, smooth_idf=True,\n",
      "        stop_words='english', strip_accents=None, sublinear_tf=False,\n",
      "        token_pattern='(?u)\\\\b\\\\w\\\\w+\\\\b', tokenizer=None, use_idf=True,\n",
      "        vocabulary=None), \n",
      "array(['Beautiful unique dress Wore this to my sons wedding. found it last minute when i had changed my mind about another byron lars dress. i felt awesome in it and got many compliments',\n",
      "       ...,\n",
      "       'Beautiful, flowy, I fell in love with this shirt in the store and it has become one of my favorite items in my closet! the bright pink contrasts perfectly with the white peplum bottom and the fit is wonderfully flattering!'],\n",
      "      dtype=object), \n",
      "array([1, ..., 1], dtype=int64), None)\n",
      "________________________________________________fit_transform_one - 0.8s, 0.0min\n",
      "Accuracy score is: 0.8959468664850136\n",
      "ROC AUC score is:  0.787901653619958\n"
     ]
    }
   ],
   "source": [
    "tfid_transf_sw=TfidfVectorizer(norm='l1', stop_words='english')\n",
    "tfid_fitted_sw=tfid_transf_sw.fit_transform(tit_rev)\n",
    "\n",
    "\n",
    "lr_tfi_sw=LogisticRegressionCV(cv=5).fit(tfid_fitted_sw,recom)\n",
    "\n",
    "tfdif_pipe = make_pipeline(TfidfVectorizer(norm='l1', stop_words='english'),LogisticRegressionCV(),memory=memory)\n",
    "tfdif_pipe.fit(tit_rev,recom)\n",
    "\n",
    "print ('Accuracy score is:',tfdif_pipe.score(tit_rev_test,recom_test))\n",
    "print ('ROC AUC score is: ', roc_auc_score(recom_test, tfdif_pipe.predict(tit_rev_test)))"
   ]
  },
  {
   "cell_type": "code",
   "execution_count": 36,
   "metadata": {},
   "outputs": [
    {
     "data": {
      "image/png": "[encoded data removed]",
      "text/plain": [
       "<Figure size 432x288 with 1 Axes>"
      ]
     },
     "metadata": {
      "needs_background": "light"
     },
     "output_type": "display_data"
    }
   ],
   "source": [
    "coef_list=np.array(lr_tfi_sw.coef_)\n",
    "coef_list=-np.sort(-lr_tfi_sw.coef_)\n",
    "\n",
    "objects=[]\n",
    "performance=[]\n",
    "\n",
    "for i in range(20):\n",
    "    position = np.where(coef_list[0][i]==np.array(lr_tfi_sw.coef_).flatten())\n",
    "    feat=tfid_transf_sw.get_feature_names()[position[0][0]]\n",
    "    objects.append(feat)\n",
    "    performance.append(coef_list[0][i])\n",
    "    \n",
    "    \n",
    "y_pos = np.arange(len(objects))\n",
    " \n",
    "plt.barh(y_pos, performance, align='center', alpha=0.5)\n",
    "plt.yticks(y_pos, objects)\n",
    "plt.xlabel('Coefficient')\n",
    "plt.title('The 20 most important features')\n",
    " \n",
    "plt.show()"
   ]
  },
  {
   "cell_type": "markdown",
   "metadata": {},
   "source": [
    "The graphic above with the most important features looks similar to the ones using normalization feature (it contains 'perfect', 'love', 'unique'). Also, the scores are similar to the other models. We don't see an impact using stop_words, but we need to try to use the stop_words parameters in our model as a good practice."
   ]
  },
  {
   "cell_type": "markdown",
   "metadata": {},
   "source": [
    "There's other parameters we need to know to obtain a better score in our model. These parameters are min_df and max_df."
   ]
  },
  {
   "cell_type": "code",
   "execution_count": 37,
   "metadata": {},
   "outputs": [
    {
     "name": "stdout",
     "output_type": "stream",
     "text": [
      "________________________________________________________________________________\n",
      "[Memory] Calling sklearn.pipeline._fit_transform_one...\n",
      "_fit_transform_one(TfidfVectorizer(analyzer='word', binary=False, decode_error='strict',\n",
      "        dtype=<class 'numpy.float64'>, encoding='utf-8', input='content',\n",
      "        lowercase=True, max_df=1.0, max_features=None, min_df=4,\n",
      "        ngram_range=(1, 1), norm='l1', preprocessor=None, smooth_idf=True,\n",
      "        stop_words='english', strip_accents=None, sublinear_tf=False,\n",
      "        token_pattern='(?u)\\\\b\\\\w\\\\w+\\\\b', tokenizer=None, use_idf=True,\n",
      "        vocabulary=None), \n",
      "array(['Beautiful unique dress Wore this to my sons wedding. found it last minute when i had changed my mind about another byron lars dress. i felt awesome in it and got many compliments',\n",
      "       ...,\n",
      "       'Beautiful, flowy, I fell in love with this shirt in the store and it has become one of my favorite items in my closet! the bright pink contrasts perfectly with the white peplum bottom and the fit is wonderfully flattering!'],\n",
      "      dtype=object), \n",
      "array([1, ..., 1], dtype=int64), None)\n",
      "________________________________________________fit_transform_one - 0.7s, 0.0min\n",
      "Accuracy score is: 0.8956062670299727\n",
      "ROC AUC score is:  0.7888221072471427\n"
     ]
    }
   ],
   "source": [
    "tfid_transf_min=TfidfVectorizer(norm='l1', stop_words='english',min_df=4)\n",
    "tfid_fitted_min=tfid_transf_min.fit_transform(tit_rev)\n",
    "\n",
    "\n",
    "lr_tfi_min=LogisticRegressionCV(cv=5).fit(tfid_fitted_min,recom)\n",
    "\n",
    "tfdif_pipe = make_pipeline(TfidfVectorizer(norm='l1', stop_words='english',min_df=4),\n",
    "                           LogisticRegressionCV(),memory=memory)\n",
    "tfdif_pipe.fit(tit_rev,recom)\n",
    "\n",
    "print ('Accuracy score is:',tfdif_pipe.score(tit_rev_test,recom_test))\n",
    "print ('ROC AUC score is: ', roc_auc_score(recom_test, tfdif_pipe.predict(tit_rev_test)))"
   ]
  },
  {
   "cell_type": "code",
   "execution_count": 38,
   "metadata": {},
   "outputs": [
    {
     "data": {
      "image/png": "[encoded data removed]",
      "text/plain": [
       "<Figure size 432x288 with 1 Axes>"
      ]
     },
     "metadata": {
      "needs_background": "light"
     },
     "output_type": "display_data"
    }
   ],
   "source": [
    "coef_list=np.array(lr_tfi_min.coef_)\n",
    "coef_list=-np.sort(-lr_tfi_min.coef_)\n",
    "\n",
    "objects=[]\n",
    "performance=[]\n",
    "\n",
    "for i in range(20):\n",
    "    position = np.where(coef_list[0][i]==np.array(lr_tfi_min.coef_).flatten())\n",
    "    feat=tfid_transf_min.get_feature_names()[position[0][0]]\n",
    "    objects.append(feat)\n",
    "    performance.append(coef_list[0][i])\n",
    "    \n",
    "    \n",
    "y_pos = np.arange(len(objects))\n",
    " \n",
    "plt.barh(y_pos, performance, align='center', alpha=0.5)\n",
    "plt.yticks(y_pos, objects)\n",
    "plt.xlabel('Coefficient')\n",
    "plt.title('The 20 most important features')\n",
    " \n",
    "plt.show()"
   ]
  },
  {
   "cell_type": "markdown",
   "metadata": {},
   "source": [
    "We see there's not much difference between the scores and the most important features of this model comparing with the previous models. However, we need to have in mind that in this case, our feature matrix was reduced of size. In conclusion, our model is running faster with this approach than the others."
   ]
  },
  {
   "cell_type": "code",
   "execution_count": 39,
   "metadata": {},
   "outputs": [
    {
     "name": "stdout",
     "output_type": "stream",
     "text": [
      "Dimension of vocabulary: (17614, 13010)\n",
      "Dimension of vocabulary using normalization type l1: (17614, 13010)\n",
      "Dimension of vocabulary using normalization type l2: (17614, 13010)\n",
      "Dimension of vocabulary using stop words: (17614, 12727)\n",
      "Dimension of vocabulary using min_df=4: (17614, 4706)\n"
     ]
    }
   ],
   "source": [
    "print('Dimension of vocabulary:',tfid_fitted.shape)\n",
    "print('Dimension of vocabulary using normalization type l1:',tfid_fitted_l1.shape)\n",
    "print('Dimension of vocabulary using normalization type l2:',tfid_fitted_l2.shape)\n",
    "print('Dimension of vocabulary using stop words:',tfid_fitted_sw.shape)\n",
    "print('Dimension of vocabulary using min_df=4:',tfid_fitted_min.shape)"
   ]
  },
  {
   "cell_type": "markdown",
   "metadata": {},
   "source": [
    "Above we compared the sizes of each feature matrices. In this case, we reduced the size of the matrix 35%. This method can help us with the computation time if we use a bigger dataset than this one."
   ]
  },
  {
   "cell_type": "markdown",
   "metadata": {},
   "source": [
    "## Importance of ngram"
   ]
  },
  {
   "cell_type": "markdown",
   "metadata": {},
   "source": [
    "Now, we are going to introduce another parameter of tfdid function. This is ngram_range, which will allow us to use n-grams. N-grams is another way to detect language, or when syntax rules are not being followed, is using n-gram based text categorization."
   ]
  },
  {
   "cell_type": "code",
   "execution_count": 40,
   "metadata": {},
   "outputs": [
    {
     "name": "stdout",
     "output_type": "stream",
     "text": [
      "________________________________________________________________________________\n",
      "[Memory] Calling sklearn.pipeline._fit_transform_one...\n",
      "_fit_transform_one(TfidfVectorizer(analyzer='word', binary=False, decode_error='strict',\n",
      "        dtype=<class 'numpy.float64'>, encoding='utf-8', input='content',\n",
      "        lowercase=True, max_df=1.0, max_features=None, min_df=4,\n",
      "        ngram_range=(2, 4), norm='l1', preprocessor=None, smooth_idf=True,\n",
      "        stop_words='english', strip_accents=None, sublinear_tf=False,\n",
      "        token_pattern='(?u)\\\\b\\\\w\\\\w+\\\\b', tokenizer=None, use_idf=True,\n",
      "        vocabulary=None), \n",
      "array(['Beautiful unique dress Wore this to my sons wedding. found it last minute when i had changed my mind about another byron lars dress. i felt awesome in it and got many compliments',\n",
      "       ...,\n",
      "       'Beautiful, flowy, I fell in love with this shirt in the store and it has become one of my favorite items in my closet! the bright pink contrasts perfectly with the white peplum bottom and the fit is wonderfully flattering!'],\n",
      "      dtype=object), \n",
      "array([1, ..., 1], dtype=int64), None)\n",
      "________________________________________________fit_transform_one - 8.0s, 0.1min\n",
      "Accuracy score is: 0.8598433242506812\n",
      "ROC AUC score is:  0.7073190755675354\n"
     ]
    }
   ],
   "source": [
    "tfid_transf_ng=TfidfVectorizer(norm='l1', stop_words='english',min_df=4,ngram_range=(2,4))\n",
    "tfid_fitted_ng=tfid_transf_ng.fit_transform(tit_rev)\n",
    "\n",
    "\n",
    "lr_tfi_ng=LogisticRegressionCV(cv=5).fit(tfid_fitted_ng,recom)\n",
    "\n",
    "tfdif_pipe = make_pipeline(TfidfVectorizer(norm='l1', stop_words='english',min_df=4,ngram_range=(2,4)),\n",
    "                           LogisticRegressionCV(),memory=memory)\n",
    "tfdif_pipe.fit(tit_rev,recom)\n",
    "\n",
    "print ('Accuracy score is:',tfdif_pipe.score(tit_rev_test,recom_test))\n",
    "print ('ROC AUC score is: ', roc_auc_score(recom_test, tfdif_pipe.predict(tit_rev_test)))"
   ]
  },
  {
   "cell_type": "code",
   "execution_count": 41,
   "metadata": {},
   "outputs": [
    {
     "data": {
      "image/png": "[encoded data removed]",
      "text/plain": [
       "<Figure size 432x288 with 1 Axes>"
      ]
     },
     "metadata": {
      "needs_background": "light"
     },
     "output_type": "display_data"
    }
   ],
   "source": [
    "coef_list=np.array(lr_tfi_ng.coef_)\n",
    "coef_list=-np.sort(-lr_tfi_ng.coef_)\n",
    "\n",
    "objects=[]\n",
    "performance=[]\n",
    "\n",
    "for i in range(20):\n",
    "    position = np.where(coef_list[0][i]==np.array(lr_tfi_ng.coef_).flatten())\n",
    "    feat=tfid_transf_ng.get_feature_names()[position[0][0]]\n",
    "    objects.append(feat)\n",
    "    performance.append(coef_list[0][i])\n",
    "    \n",
    "    \n",
    "y_pos = np.arange(len(objects))\n",
    " \n",
    "plt.barh(y_pos, performance, align='center', alpha=0.5)\n",
    "plt.yticks(y_pos, objects)\n",
    "plt.xlabel('Coefficient')\n",
    "plt.title('The 20 most important features')\n",
    " \n",
    "plt.show()"
   ]
  },
  {
   "cell_type": "markdown",
   "metadata": {},
   "source": [
    "This is the best model until now, with good scores of Accuracy (0.99) and ROC AUC score (0.97). Watching the most frequent words of this model, we realize that every word makes sense with the prediction. Let's take a look the worst words of this model."
   ]
  },
  {
   "cell_type": "code",
   "execution_count": 42,
   "metadata": {},
   "outputs": [
    {
     "data": {
      "image/png": "[encoded data removed]",
      "text/plain": [
       "<Figure size 432x288 with 1 Axes>"
      ]
     },
     "metadata": {
      "needs_background": "light"
     },
     "output_type": "display_data"
    }
   ],
   "source": [
    "coef_list=np.array(lr_tfi_ng.coef_)\n",
    "coef_list=np.sort(lr_tfi_ng.coef_)\n",
    "\n",
    "objects=[]\n",
    "performance=[]\n",
    "\n",
    "for i in range(20):\n",
    "    position = np.where(coef_list[0][i]==np.array(lr_tfi_ng.coef_).flatten())\n",
    "    feat=tfid_transf_ng.get_feature_names()[position[0][0]]\n",
    "    objects.append(feat)\n",
    "    performance.append(coef_list[0][i])\n",
    "    \n",
    "    \n",
    "y_pos = np.arange(len(objects))\n",
    " \n",
    "plt.barh(y_pos, performance, align='center', alpha=0.5)\n",
    "plt.yticks(y_pos, objects)\n",
    "plt.xlabel('Coefficient')\n",
    "plt.title('The 20 least important features')\n",
    " \n",
    "plt.show()"
   ]
  },
  {
   "cell_type": "markdown",
   "metadata": {},
   "source": [
    "All the words showing above in the graphic, are from the products which are not recommended for people. We can see it makes sense that people complain with the products and pointing out in the review to advice people don't buy these products."
   ]
  },
  {
   "cell_type": "markdown",
   "metadata": {},
   "source": [
    "Now, in the same way we take out certain amount of words to make the categorization, we can use certain number of characters belongs to a paragraph. This approach is named char n-grams, which will be using in the following lines."
   ]
  },
  {
   "cell_type": "code",
   "execution_count": 43,
   "metadata": {},
   "outputs": [
    {
     "name": "stdout",
     "output_type": "stream",
     "text": [
      "________________________________________________________________________________\n",
      "[Memory] Calling sklearn.pipeline._fit_transform_one...\n",
      "_fit_transform_one(TfidfVectorizer(analyzer='char_wb', binary=False, decode_error='strict',\n",
      "        dtype=<class 'numpy.float64'>, encoding='utf-8', input='content',\n",
      "        lowercase=True, max_df=1.0, max_features=None, min_df=4,\n",
      "        ngram_range=(2, 4), norm='l1', preprocessor=None, smooth_idf=True,\n",
      "        stop_words='english', strip_accents=None, sublinear_tf=False,\n",
      "        token_pattern='(?u)\\\\b\\\\w\\\\w+\\\\b', tokenizer=None, use_idf=True,\n",
      "        vocabulary=None), \n",
      "array(['Beautiful unique dress Wore this to my sons wedding. found it last minute when i had changed my mind about another byron lars dress. i felt awesome in it and got many compliments',\n",
      "       ...,\n",
      "       'Beautiful, flowy, I fell in love with this shirt in the store and it has become one of my favorite items in my closet! the bright pink contrasts perfectly with the white peplum bottom and the fit is wonderfully flattering!'],\n",
      "      dtype=object), \n",
      "array([1, ..., 1], dtype=int64), None)\n",
      "________________________________________________fit_transform_one - 8.0s, 0.1min\n",
      "Accuracy score is: 0.9019073569482289\n",
      "ROC AUC score is:  0.7945323545604843\n"
     ]
    }
   ],
   "source": [
    "tfid_transf_cg=TfidfVectorizer(norm='l1', stop_words='english',min_df=4,ngram_range=(2,4),analyzer='char_wb')\n",
    "tfid_fitted_cg=tfid_transf_cg.fit_transform(tit_rev)\n",
    "\n",
    "\n",
    "lr_tfi_cg=LogisticRegressionCV(cv=5).fit(tfid_fitted_cg,recom)\n",
    "\n",
    "\n",
    "tfdif_pipe = make_pipeline(TfidfVectorizer(norm='l1', stop_words='english',min_df=4,ngram_range=(2,4),analyzer='char_wb'),\n",
    "                           LogisticRegressionCV(),memory=memory)\n",
    "tfdif_pipe.fit(tit_rev,recom)\n",
    "\n",
    "print ('Accuracy score is:',tfdif_pipe.score(tit_rev_test,recom_test))\n",
    "print ('ROC AUC score is: ', roc_auc_score(recom_test, tfdif_pipe.predict(tit_rev_test)))"
   ]
  },
  {
   "cell_type": "code",
   "execution_count": 44,
   "metadata": {},
   "outputs": [
    {
     "data": {
      "image/png": "[encoded data removed]",
      "text/plain": [
       "<Figure size 432x288 with 1 Axes>"
      ]
     },
     "metadata": {
      "needs_background": "light"
     },
     "output_type": "display_data"
    }
   ],
   "source": [
    "coef_list=np.array(lr_tfi_cg.coef_)\n",
    "coef_list=-np.sort(-lr_tfi_cg.coef_)\n",
    "\n",
    "objects=[]\n",
    "performance=[]\n",
    "\n",
    "for i in range(20):\n",
    "    position = np.where(coef_list[0][i]==np.array(lr_tfi_cg.coef_).flatten())\n",
    "    feat=tfid_transf_cg.get_feature_names()[position[0][0]]\n",
    "    objects.append(feat)\n",
    "    performance.append(coef_list[0][i])\n",
    "    \n",
    "    \n",
    "y_pos = np.arange(len(objects))\n",
    " \n",
    "plt.barh(y_pos, performance, align='center', alpha=0.5)\n",
    "plt.yticks(y_pos, objects)\n",
    "plt.xlabel('Coefficient')\n",
    "plt.title('The 20 most important features')\n",
    " \n",
    "plt.show()"
   ]
  },
  {
   "cell_type": "markdown",
   "metadata": {},
   "source": [
    "After using char n-grams, we can see this is a good apporach to predict our dataset. We can see the result of the most important features, we can see the char '!' expressing admiration or astonishment for certain products, that means this would be a recommendation to buy these products. Also, we can see the characters of love on it. This means people usually use this words to recommend the products people like."
   ]
  },
  {
   "cell_type": "markdown",
   "metadata": {},
   "source": [
    "## Tunning the predictive models"
   ]
  },
  {
   "cell_type": "markdown",
   "metadata": {},
   "source": [
    "Now, we are going to tune our models to obtain better accuracy and roc auc scores."
   ]
  },
  {
   "cell_type": "code",
   "execution_count": 45,
   "metadata": {},
   "outputs": [
    {
     "name": "stdout",
     "output_type": "stream",
     "text": [
      "________________________________________________________________________________\n",
      "[Memory] Calling sklearn.pipeline._fit_transform_one...\n",
      "_fit_transform_one(TfidfVectorizer(analyzer='word', binary=False, decode_error='strict',\n",
      "        dtype=<class 'numpy.float64'>, encoding='utf-8', input='content',\n",
      "        lowercase=True, max_df=1.0, max_features=None, min_df=1,\n",
      "        ngram_range=(1, 2), norm='l1', preprocessor=None, smooth_idf=True,\n",
      "        stop_words='english', strip_accents=None, sublinear_tf=False,\n",
      "        token_pattern='(?u)\\\\b\\\\w\\\\w+\\\\b', tokenizer=None, use_idf=True,\n",
      "        vocabulary=None), \n",
      "array(['Beautiful unique dress Wore this to my sons wedding. found it last minute when i had changed my mind about another byron lars dress. i felt awesome in it and got many compliments',\n",
      "       ...,\n",
      "       'Beautiful, flowy, I fell in love with this shirt in the store and it has become one of my favorite items in my closet! the bright pink contrasts perfectly with the white peplum bottom and the fit is wonderfully flattering!'],\n",
      "      dtype=object), \n",
      "array([1, ..., 1], dtype=int64), None)\n",
      "_______________________________________________fit_transform_one - 18.1s, 0.3min\n",
      "Best score: 0.908992846599296\n",
      "Best parameters set: {'tfidf__ngram_range': (1, 2), 'tfidf__norm': 'l1'}\n"
     ]
    }
   ],
   "source": [
    "from sklearn.model_selection import GridSearchCV\n",
    "from sklearn.pipeline import Pipeline\n",
    "from sklearn.linear_model import LogisticRegression\n",
    "\n",
    "parameters = {\n",
    "    'tfidf__norm':('l1','l2',None),\n",
    "    'tfidf__ngram_range': ((1, 1), (1, 2),(2,4)), \n",
    "\n",
    "}\n",
    "\n",
    "pipeline = Pipeline([\n",
    "    ('tfidf', TfidfVectorizer(stop_words='english')),\n",
    "    ('log', LogisticRegressionCV()),\n",
    "    \n",
    "],memory=memory)\n",
    "\n",
    "grid_search = GridSearchCV(pipeline, parameters, cv=5,n_jobs=-1)\n",
    "grid_search.fit(tit_rev,recom)\n",
    "\n",
    "print(\"Best score:\", grid_search.best_score_)\n",
    "print(\"Best parameters set:\",grid_search.best_params_)"
   ]
  },
  {
   "cell_type": "code",
   "execution_count": 46,
   "metadata": {},
   "outputs": [
    {
     "name": "stdout",
     "output_type": "stream",
     "text": [
      "________________________________________________________________________________\n",
      "[Memory] Calling sklearn.pipeline._fit_transform_one...\n",
      "_fit_transform_one(TfidfVectorizer(analyzer='word', binary=False, decode_error='strict',\n",
      "        dtype=<class 'numpy.float64'>, encoding='utf-8', input='content',\n",
      "        lowercase=True, max_df=1.0, max_features=None, min_df=4,\n",
      "        ngram_range=(1, 2), norm='l1', preprocessor=None, smooth_idf=True,\n",
      "        stop_words='english', strip_accents=None, sublinear_tf=False,\n",
      "        token_pattern='(?u)\\\\b\\\\w\\\\w+\\\\b', tokenizer=None, use_idf=True,\n",
      "        vocabulary=None), \n",
      "array(['Beautiful unique dress Wore this to my sons wedding. found it last minute when i had changed my mind about another byron lars dress. i felt awesome in it and got many compliments',\n",
      "       ...,\n",
      "       'Beautiful, flowy, I fell in love with this shirt in the store and it has become one of my favorite items in my closet! the bright pink contrasts perfectly with the white peplum bottom and the fit is wonderfully flattering!'],\n",
      "      dtype=object), \n",
      "array([1, ..., 1], dtype=int64), None)\n",
      "________________________________________________fit_transform_one - 7.3s, 0.1min\n",
      "Accuracy score is: 0.8978201634877384\n",
      "ROC AUC score is:  0.7965575113761199\n"
     ]
    }
   ],
   "source": [
    "tfid_transf_best=TfidfVectorizer(norm='l1', stop_words='english',min_df=4,ngram_range=(1,2))\n",
    "tfid_fitted_best=tfid_transf_best.fit_transform(tit_rev)\n",
    "\n",
    "\n",
    "lr_tfi_best=LogisticRegressionCV(cv=5).fit(tfid_fitted_best,recom)\n",
    "\n",
    "tfdif_pipe = make_pipeline(TfidfVectorizer(norm='l1', stop_words='english',min_df=4,ngram_range=(1,2)),\n",
    "                           LogisticRegressionCV(),memory=memory)\n",
    "tfdif_pipe.fit(tit_rev,recom)\n",
    "\n",
    "print ('Accuracy score is:',tfdif_pipe.score(tit_rev_test,recom_test))\n",
    "print ('ROC AUC score is: ', roc_auc_score(recom_test, tfdif_pipe.predict(tit_rev_test)))"
   ]
  },
  {
   "cell_type": "markdown",
   "metadata": {},
   "source": [
    "There's no difference between this scores and the other we made previously. Remember that we are using an imbalanced dataset to fit our models, so it's too difficult to obtain good scores using this dataset. It would be better if we have equal amount of reviews of products that people like and dislike."
   ]
  },
  {
   "cell_type": "code",
   "execution_count": null,
   "metadata": {},
   "outputs": [],
   "source": []
  }
 ],
 "metadata": {
  "kernelspec": {
   "display_name": "Python 3",
   "language": "python",
   "name": "python3"
  },
  "language_info": {
   "codemirror_mode": {
    "name": "ipython",
    "version": 3
   },
   "file_extension": ".py",
   "mimetype": "text/x-python",
   "name": "python",
   "nbconvert_exporter": "python",
   "pygments_lexer": "ipython3",
   "version": "3.7.2"
  }
 },
 "nbformat": 4,
 "nbformat_minor": 2
}
